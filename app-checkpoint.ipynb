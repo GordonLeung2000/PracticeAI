{
 "cells": [
  {
   "cell_type": "code",
   "execution_count": 22,
   "id": "873d0fd3",
   "metadata": {},
   "outputs": [],
   "source": [
    "#Step 1: Fetch HKMA Regulations and Circulars\n",
    "\n",
    "import os\n",
    "import numpy as np\n",
    "import pandas as pd\n",
    "from openai import AzureOpenAI\n",
    "\n",
    "import requests\n",
    "from bs4 import BeautifulSoup\n",
    "\n",
    "def fetch_hkma_data():\n",
    "    url = \"https://www.hkma.gov.hk/eng/regulatory-resources/regulatory-guides/guidelines/\"  # Example URL\n",
    "    response = requests.get(url)\n",
    "\n",
    "    if response.status_code != 200:\n",
    "        print(\"Error fetching data:\", response.status_code)\n",
    "        return []\n",
    "\n",
    "    soup = BeautifulSoup(response.content, 'html.parser')\n",
    "\n",
    "    # Find the relevant section containing regulations and circulars\n",
    "    # Note: You may need to adjust the selectors based on the actual HTML structure of the page\n",
    "    regulations = []\n",
    "    for item in soup.select('.regulation-item'):  # Adjust this selector based on actual HTML\n",
    "        title = item.find('h3').get_text(strip=True)  # Assuming titles are in <h3> tags\n",
    "        text = item.find('p').get_text(strip=True)  # Assuming descriptions are in <p> tags\n",
    "        regulations.append({'title': title, 'text': text})\n",
    "\n",
    "    return regulations"
   ]
  },
  {
   "cell_type": "code",
   "execution_count": 23,
   "id": "21775537",
   "metadata": {},
   "outputs": [],
   "source": [
    "#Step 2: Use OpenAI's Ada Model for Word Embeddings\n",
    "    \n",
    "import openai\n",
    "import numpy as np\n",
    "\n",
    "openai_client = AzureOpenAI(\n",
    "  api_key = \"f21c398476b146988044b391bd5256df\", # use your key here\n",
    "  api_version = \"2023-05-15\", # apparently HKUST uses a deprecated version\n",
    "  azure_endpoint = \"https://hkust.azure-api.net\" # per HKUST instructions\n",
    ")\n",
    "\n",
    "def get_embedding(text):\n",
    "    response = openai_client.Embedding.create(\n",
    "        input=text,\n",
    "        model=\"text-embedding-ada-002\"  # Use the Ada model for embeddings\n",
    "    )\n",
    "    return np.array(response['data'][0]['embedding'])"
   ]
  },
  {
   "cell_type": "code",
   "execution_count": 24,
   "id": "3fb82a18",
   "metadata": {},
   "outputs": [],
   "source": [
    "#Step 3: Compare Input Questions with HKMA Data\n",
    "\n",
    "def find_best_match(user_question, hkma_data):\n",
    "    user_embedding = get_embedding(user_question)\n",
    "    best_match = None\n",
    "    best_similarity = -1\n",
    "\n",
    "    for circular in hkma_data:\n",
    "        circular_embedding = get_embedding(circular['text'])  # Assuming 'text' key contains the circular text\n",
    "        similarity = np.dot(user_embedding, circular_embedding)  # Cosine similarity\n",
    "        if similarity > best_similarity:\n",
    "            best_similarity = similarity\n",
    "            best_match = circular['text']  # Store the best matching text\n",
    "\n",
    "    return best_match"
   ]
  },
  {
   "cell_type": "code",
   "execution_count": 25,
   "id": "c3f786cd",
   "metadata": {},
   "outputs": [
    {
     "name": "stderr",
     "output_type": "stream",
     "text": [
      "2024-11-22 16:09:17.096 Thread 'MainThread': missing ScriptRunContext! This warning can be ignored when running in bare mode.\n",
      "2024-11-22 16:09:17.097 Thread 'MainThread': missing ScriptRunContext! This warning can be ignored when running in bare mode.\n",
      "2024-11-22 16:09:17.237 Thread 'MainThread': missing ScriptRunContext! This warning can be ignored when running in bare mode.\n",
      "2024-11-22 16:09:17.238 Thread 'MainThread': missing ScriptRunContext! This warning can be ignored when running in bare mode.\n",
      "2024-11-22 16:09:17.238 Thread 'MainThread': missing ScriptRunContext! This warning can be ignored when running in bare mode.\n",
      "2024-11-22 16:09:17.238 Thread 'MainThread': missing ScriptRunContext! This warning can be ignored when running in bare mode.\n",
      "2024-11-22 16:09:17.239 Thread 'MainThread': missing ScriptRunContext! This warning can be ignored when running in bare mode.\n",
      "2024-11-22 16:09:17.239 Thread 'MainThread': missing ScriptRunContext! This warning can be ignored when running in bare mode.\n",
      "2024-11-22 16:09:17.239 Thread 'MainThread': missing ScriptRunContext! This warning can be ignored when running in bare mode.\n",
      "2024-11-22 16:09:17.240 Thread 'MainThread': missing ScriptRunContext! This warning can be ignored when running in bare mode.\n",
      "2024-11-22 16:09:17.240 Thread 'MainThread': missing ScriptRunContext! This warning can be ignored when running in bare mode.\n",
      "2024-11-22 16:09:17.240 Thread 'MainThread': missing ScriptRunContext! This warning can be ignored when running in bare mode.\n",
      "2024-11-22 16:09:17.241 Thread 'MainThread': missing ScriptRunContext! This warning can be ignored when running in bare mode.\n"
     ]
    },
    {
     "name": "stdout",
     "output_type": "stream",
     "text": [
      "Error fetching data: 404\n"
     ]
    }
   ],
   "source": [
    "#Step 4: Create the Streamlit User Interface\n",
    "\n",
    "import streamlit as st\n",
    "\n",
    "def main():\n",
    "    st.title(\"HKMA Regulations Semantic Search\")\n",
    "\n",
    "    # Fetch HKMA data\n",
    "    hkma_data = fetch_hkma_data()\n",
    "\n",
    "    user_question = st.text_input(\"Ask a question about HKMA regulations:\")\n",
    "\n",
    "    if st.button(\"Search\"):\n",
    "        if user_question:\n",
    "            best_match = find_best_match(user_question, hkma_data)\n",
    "            st.write(\"Best Match:\")\n",
    "            st.write(best_match)\n",
    "        else:\n",
    "            st.write(\"Please enter a question.\")\n",
    "\n",
    "if __name__ == \"__main__\":\n",
    "    main()"
   ]
  },
  {
   "cell_type": "code",
   "execution_count": 27,
   "id": "8f22c3c8",
   "metadata": {},
   "outputs": [
    {
     "ename": "SyntaxError",
     "evalue": "invalid syntax (<ipython-input-27-718866ff34b9>, line 1)",
     "output_type": "error",
     "traceback": [
      "\u001b[1;36m  File \u001b[1;32m\"<ipython-input-27-718866ff34b9>\"\u001b[1;36m, line \u001b[1;32m1\u001b[0m\n\u001b[1;33m    streamlit run app.py\u001b[0m\n\u001b[1;37m              ^\u001b[0m\n\u001b[1;31mSyntaxError\u001b[0m\u001b[1;31m:\u001b[0m invalid syntax\n"
     ]
    }
   ],
   "source": []
  },
  {
   "cell_type": "code",
   "execution_count": null,
   "id": "4bf561b6",
   "metadata": {},
   "outputs": [],
   "source": []
  }
 ],
 "metadata": {
  "kernelspec": {
   "display_name": "Python 3",
   "language": "python",
   "name": "python3"
  },
  "language_info": {
   "codemirror_mode": {
    "name": "ipython",
    "version": 3
   },
   "file_extension": ".py",
   "mimetype": "text/x-python",
   "name": "python",
   "nbconvert_exporter": "python",
   "pygments_lexer": "ipython3",
   "version": "3.8.8"
  }
 },
 "nbformat": 4,
 "nbformat_minor": 5
}
