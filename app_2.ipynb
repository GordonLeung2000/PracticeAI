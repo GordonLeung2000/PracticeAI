{
 "cells": [
  {
   "cell_type": "code",
   "execution_count": 7,
   "id": "ce37da0e",
   "metadata": {},
   "outputs": [],
   "source": [
    "#pip install PyPDF2"
   ]
  },
  {
   "cell_type": "code",
   "execution_count": 8,
   "id": "873d0fd3",
   "metadata": {},
   "outputs": [],
   "source": [
    "import os\n",
    "import numpy as np\n",
    "import pandas as pd\n",
    "from bs4 import BeautifulSoup\n",
    "import PyPDF2\n",
    "import openai\n",
    "import streamlit as st\n",
    "import requests\n",
    "from bs4 import BeautifulSoup\n",
    "\n",
    "# Set up OpenAI client\n",
    "class AzureOpenAI:\n",
    "    def __init__(self, api_key, api_version, azure_endpoint):\n",
    "        self.api_key = api_key\n",
    "        self.api_version = api_version\n",
    "        self.azure_endpoint = azure_endpoint\n",
    "\n",
    "    def embed(self, text, model):\n",
    "        headers = {\n",
    "            \"api-key\": self.api_key,\n",
    "            \"Content-Type\": \"application/json\"\n",
    "        }\n",
    "        data = {\n",
    "            \"input\": text,\n",
    "            \"model\": model\n",
    "        }\n",
    "        response = requests.post(f\"{self.azure_endpoint}/openai/text/embeddings/v1?api-version={self.api_version}\", headers=headers, json=data)\n",
    "        return response.json()\n",
    "\n",
    "openai_client = AzureOpenAI(\n",
    "    api_key=\"f21c398476b146988044b391bd5256df\",\n",
    "    api_version=\"2023-05-15\",\n",
    "    azure_endpoint=\"https://hkust.azure-api.net\"\n",
    ")\n"
   ]
  },
  {
   "cell_type": "code",
   "execution_count": 9,
   "id": "6c0abeb2",
   "metadata": {},
   "outputs": [],
   "source": [
    "from urllib.parse import urljoin\n",
    "\n",
    "# Scrape guidelines from HKMA website\n",
    "url = \"https://www.hkma.gov.hk/eng/regulatory-resources/regulatory-guides/guidelines/\"\n",
    "response = requests.get(url)\n",
    "soup = BeautifulSoup(response.text, 'html.parser')\n",
    "links = soup.find_all('a')\n",
    "\n",
    "# Extract pdf links\n",
    "pdf_links = []\n",
    "for link in links:\n",
    "    if link.get('href') and link.get('href').endswith('.pdf'):\n",
    "        # Join relative URL with base URL\n",
    "        pdf_link = urljoin(url, link.get('href'))\n",
    "        pdf_links.append(pdf_link)\n",
    "\n",
    "# Download pdf files and extract text\n",
    "texts = []\n",
    "for link in pdf_links:\n",
    "    response = requests.get(link)\n",
    "    with open('temp.pdf', 'wb') as f:\n",
    "        f.write(response.content)"
   ]
  },
  {
   "cell_type": "code",
   "execution_count": 10,
   "id": "21775537",
   "metadata": {},
   "outputs": [],
   "source": [
    "# Convert texts to embeddings\n",
    "embeddings = []\n",
    "for text in texts:\n",
    "    embedding = openai_client.embed(text, model=\"text-embedding-ada-002\")\n",
    "    embeddings.append(embedding[\"embedding\"])\n"
   ]
  },
  {
   "cell_type": "code",
   "execution_count": 11,
   "id": "f8aaefd2",
   "metadata": {},
   "outputs": [
    {
     "name": "stderr",
     "output_type": "stream",
     "text": [
      "2024-11-24 15:49:34.431 WARNING streamlit.runtime.scriptrunner_utils.script_run_context: Thread 'MainThread': missing ScriptRunContext! This warning can be ignored when running in bare mode.\n",
      "2024-11-24 15:49:34.501 \n",
      "  \u001b[33m\u001b[1mWarning:\u001b[0m to view this Streamlit app on a browser, run it with the following\n",
      "  command:\n",
      "\n",
      "    streamlit run C:\\Users\\Eric\\anaconda3\\lib\\site-packages\\ipykernel_launcher.py [ARGUMENTS]\n",
      "2024-11-24 15:49:34.502 Thread 'MainThread': missing ScriptRunContext! This warning can be ignored when running in bare mode.\n",
      "2024-11-24 15:49:34.504 Thread 'MainThread': missing ScriptRunContext! This warning can be ignored when running in bare mode.\n",
      "2024-11-24 15:49:34.505 Thread 'MainThread': missing ScriptRunContext! This warning can be ignored when running in bare mode.\n",
      "2024-11-24 15:49:34.505 Thread 'MainThread': missing ScriptRunContext! This warning can be ignored when running in bare mode.\n",
      "2024-11-24 15:49:34.506 Thread 'MainThread': missing ScriptRunContext! This warning can be ignored when running in bare mode.\n",
      "2024-11-24 15:49:34.506 Session state does not function when running a script without `streamlit run`\n",
      "2024-11-24 15:49:34.507 Thread 'MainThread': missing ScriptRunContext! This warning can be ignored when running in bare mode.\n",
      "2024-11-24 15:49:34.508 Thread 'MainThread': missing ScriptRunContext! This warning can be ignored when running in bare mode.\n",
      "2024-11-24 15:49:34.509 Thread 'MainThread': missing ScriptRunContext! This warning can be ignored when running in bare mode.\n",
      "2024-11-24 15:49:34.511 Thread 'MainThread': missing ScriptRunContext! This warning can be ignored when running in bare mode.\n",
      "2024-11-24 15:49:34.512 Thread 'MainThread': missing ScriptRunContext! This warning can be ignored when running in bare mode.\n",
      "2024-11-24 15:49:34.513 Thread 'MainThread': missing ScriptRunContext! This warning can be ignored when running in bare mode.\n",
      "2024-11-24 15:49:34.513 Thread 'MainThread': missing ScriptRunContext! This warning can be ignored when running in bare mode.\n"
     ]
    }
   ],
   "source": [
    "# Create Streamlit app\n",
    "st.title(\"HKMA Guidelines Q&A\")\n",
    "\n",
    "def get_answer(question):\n",
    "    # Convert question to embedding\n",
    "    question_embedding = openai_client.embed(question, model=\"text-embedding-ada-002\")[\"embedding\"]\n",
    "\n",
    "    # Calculate cosine similarity with all embeddings\n",
    "    similarities = []\n",
    "    for embedding in embeddings:\n",
    "        similarity = np.dot(question_embedding, embedding) / (np.linalg.norm(question_embedding) * np.linalg.norm(embedding))\n",
    "        similarities.append(similarity)\n",
    "\n",
    "    # Get index of most similar embedding\n",
    "    max_index = similarities.index(max(similarities))\n",
    "\n",
    "    # Return corresponding text as answer\n",
    "    return texts[max_index]\n",
    "\n",
    "question = st.text_input(\"Ask a question\")\n",
    "if st.button(\"Get answer\"):\n",
    "    answer = get_answer(question)\n",
    "    st.write(answer)"
   ]
  },
  {
   "cell_type": "code",
   "execution_count": null,
   "id": "3fb82a18",
   "metadata": {},
   "outputs": [],
   "source": [
    "#streamlit run C:\\Users\\Eric\\anaconda3\\lib\\site-packages\\ipykernel_launcher.py"
   ]
  },
  {
   "cell_type": "code",
   "execution_count": null,
   "id": "c3f786cd",
   "metadata": {},
   "outputs": [],
   "source": []
  },
  {
   "cell_type": "code",
   "execution_count": null,
   "id": "8f22c3c8",
   "metadata": {},
   "outputs": [],
   "source": []
  },
  {
   "cell_type": "code",
   "execution_count": null,
   "id": "4bf561b6",
   "metadata": {},
   "outputs": [],
   "source": []
  }
 ],
 "metadata": {
  "kernelspec": {
   "display_name": "Python 3",
   "language": "python",
   "name": "python3"
  },
  "language_info": {
   "codemirror_mode": {
    "name": "ipython",
    "version": 3
   },
   "file_extension": ".py",
   "mimetype": "text/x-python",
   "name": "python",
   "nbconvert_exporter": "python",
   "pygments_lexer": "ipython3",
   "version": "3.8.8"
  }
 },
 "nbformat": 4,
 "nbformat_minor": 5
}
