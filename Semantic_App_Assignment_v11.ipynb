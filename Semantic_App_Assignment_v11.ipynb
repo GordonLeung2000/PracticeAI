{
 "cells": [
  {
   "cell_type": "code",
   "execution_count": 1,
   "metadata": {},
   "outputs": [],
   "source": [
    "#!/usr/bin/env python\n",
    "# coding: utf-8"
   ]
  },
  {
   "cell_type": "code",
   "execution_count": null,
   "metadata": {},
   "outputs": [
    {
     "name": "stdout",
     "output_type": "stream",
     "text": [
      "Requirement already satisfied: PyPDF2 in c:\\users\\gordo\\appdata\\local\\programs\\python\\python312\\lib\\site-packages (3.0.1)\n",
      "Note: you may need to restart the kernel to use updated packages.\n"
     ]
    }
   ],
   "source": [
    "#pip install PyPDF2"
   ]
  },
  {
   "cell_type": "markdown",
   "metadata": {},
   "source": [
    "In[ ]:"
   ]
  },
  {
   "cell_type": "code",
   "execution_count": null,
   "metadata": {},
   "outputs": [],
   "source": [
    "#pip install bertopic"
   ]
  },
  {
   "cell_type": "markdown",
   "metadata": {},
   "source": [
    "In[1]:"
   ]
  },
  {
   "cell_type": "code",
   "execution_count": null,
   "metadata": {},
   "outputs": [],
   "source": [
    "pip install openai"
   ]
  },
  {
   "cell_type": "code",
   "execution_count": null,
   "metadata": {},
   "outputs": [
    {
     "name": "stderr",
     "output_type": "stream",
     "text": [
      "Matplotlib is building the font cache; this may take a moment.\n"
     ]
    }
   ],
   "source": [
    "import streamlit as st\n",
    "import requests\n",
    "import numpy as np\n",
    "from openai import OpenAI\n",
    "from openai import AzureOpenAI\n",
    "import os\n",
    "import json\n",
    "from PyPDF2 import PdfReader\n",
    "from bertopic import BERTopic"
   ]
  },
  {
   "cell_type": "markdown",
   "metadata": {},
   "source": [
    "In[2]:"
   ]
  },
  {
   "cell_type": "markdown",
   "metadata": {},
   "source": [
    "Part 1: Fetch and Process Policy Document"
   ]
  },
  {
   "cell_type": "code",
   "execution_count": null,
   "metadata": {},
   "outputs": [],
   "source": [
    "def fetch_policy_content():\n",
    "    \"\"\"Fetch the content of the HKUST policy document.\"\"\"\n",
    "    url = \"https://legal.hkust.edu.hk/files/Policy_Use_of_University_Titles_Names_and_Logos.pdf\"\n",
    "    try:\n",
    "        response = requests.get(url)\n",
    "        if response.status_code == 200:\n",
    "            with open(\"policy.pdf\", \"wb\") as file:\n",
    "                file.write(response.content)\n",
    "            return \"policy.pdf\"\n",
    "        else:\n",
    "            st.error(f\"Failed to fetch the document. Status code: {response.status_code}\")\n",
    "            return None\n",
    "    except Exception as e:\n",
    "        st.error(f\"An error occurred while fetching the document: {e}\")\n",
    "        return None"
   ]
  },
  {
   "cell_type": "code",
   "execution_count": null,
   "metadata": {},
   "outputs": [],
   "source": [
    "def extract_text_from_pdf(pdf_path):\n",
    "    \"\"\"Extract text from a PDF file.\"\"\"\n",
    "    try:\n",
    "        reader = PdfReader(pdf_path)\n",
    "        text = \"\"\n",
    "        for page in reader.pages:\n",
    "            text += page.extract_text()\n",
    "        return text\n",
    "    except Exception as e:\n",
    "        st.error(f\"An error occurred while extracting text from the PDF: {e}\")\n",
    "        return None"
   ]
  },
  {
   "cell_type": "markdown",
   "metadata": {},
   "source": [
    "In[3]:"
   ]
  },
  {
   "cell_type": "code",
   "execution_count": null,
   "metadata": {},
   "outputs": [],
   "source": [
    "from openai import AzureOpenAI"
   ]
  },
  {
   "cell_type": "code",
   "execution_count": null,
   "metadata": {},
   "outputs": [],
   "source": [
    "openai_client = AzureOpenAI(\n",
    "  api_key = \"f21c398476b146988044b391bd5256df\", # use your key here\n",
    "  api_version = \"2024-06-01\", # apparently HKUST uses a deprecated version\n",
    "  azure_endpoint = \"https://hkust.azure-api.net\" # per HKUST instructions\n",
    ")"
   ]
  },
  {
   "cell_type": "code",
   "execution_count": null,
   "metadata": {},
   "outputs": [],
   "source": [
    "def get_embeddings(text_list, model=\"text-embedding-ada-002\"):\n",
    "    \"\"\"Get embeddings for a list of texts.\"\"\"\n",
    "    try:\n",
    "        response = openai_client.embeddings.create(\n",
    "            input=text_list,\n",
    "            model=model,\n",
    "            encoding_format=\"float\",\n",
    "        )\n",
    "        return [data.embedding for data in response.data]\n",
    "    except Exception as e:\n",
    "        st.error(f\"An error occurred while generating embeddings: {e}\")\n",
    "        return None\n",
    "\n",
    "                 "
   ]
  },
  {
   "cell_type": "markdown",
   "metadata": {},
   "source": [
    "In[4]:"
   ]
  },
  {
   "cell_type": "markdown",
   "metadata": {},
   "source": [
    "Part 3: Cosine Similarity"
   ]
  },
  {
   "cell_type": "code",
   "execution_count": null,
   "metadata": {},
   "outputs": [],
   "source": [
    "def cosine_similarity(vec1, vec2):\n",
    "    \"\"\"Calculate cosine similarity between two vectors.\"\"\"\n",
    "    vec1 = np.array(vec1)\n",
    "    vec2 = np.array(vec2)\n",
    "    return np.dot(vec1, vec2) / (np.linalg.norm(vec1) * np.linalg.norm(vec2))"
   ]
  },
  {
   "cell_type": "markdown",
   "metadata": {},
   "source": [
    "In[5]:"
   ]
  },
  {
   "cell_type": "code",
   "execution_count": null,
   "metadata": {},
   "outputs": [],
   "source": [
    "def search_relevant_section(query_embedding, paragraph_embeddings, paragraphs, topics):\n",
    "    \"\"\"Perform a simple semantic search to find the relevant section in the policy document.\"\"\"\n",
    "    similarities = [cosine_similarity(query_embedding, paragraph_embedding) for paragraph_embedding in paragraph_embeddings]\n",
    "\n",
    "    if not similarities:\n",
    "        st.error(\"No valid paragraph embeddings were generated.\")\n",
    "        return None, None\n",
    "\n",
    "    most_relevant_index = np.argmax(similarities)\n",
    "    most_relevant_score = similarities[most_relevant_index]\n",
    "\n",
    "    if most_relevant_score < 0.5:  # Set a threshold for relevance\n",
    "        return None, most_relevant_score\n",
    "\n",
    "    return paragraphs[most_relevant_index], most_relevant_score, topics[most_relevant_index]"
   ]
  },
  {
   "cell_type": "code",
   "execution_count": null,
   "metadata": {},
   "outputs": [],
   "source": [
    "# Use BERTopic to define topics\n",
    "def define_topics(paragraphs):\n",
    "    \"\"\"Use BERTopic to extract topics from paragraphs.\"\"\"\n",
    "    topic_model = BERTopic()\n",
    "    topics, _ = topic_model.fit_transform(paragraphs)\n",
    "    return topic_model.get_topic_info(), topics"
   ]
  },
  {
   "cell_type": "markdown",
   "metadata": {},
   "source": [
    "In[6]:"
   ]
  },
  {
   "cell_type": "markdown",
   "metadata": {},
   "source": [
    "Streamlit App"
   ]
  },
  {
   "cell_type": "code",
   "execution_count": null,
   "metadata": {},
   "outputs": [],
   "source": [
    "# Streamlit app\n",
    "def main():\n",
    "    st.title(\"HKUST Policy Q&A\")\n",
    "    st.write(\"Ask questions about the HKUST policy document.\")\n",
    "\n",
    "    if \"policy_content\" not in st.session_state:\n",
    "        st.session_state[\"policy_content\"] = None\n",
    "    if \"policy_embeddings\" not in st.session_state:\n",
    "        st.session_state[\"policy_embeddings\"] = None\n",
    "    if \"policy_topics\" not in st.session_state:\n",
    "        st.session_state[\"policy_topics\"] = None\n",
    "\n",
    "    if st.session_state[\"policy_content\"] is None:\n",
    "        pdf_path = fetch_policy_content()\n",
    "        if pdf_path:\n",
    "            content = extract_text_from_pdf(pdf_path)\n",
    "            if content:\n",
    "                st.session_state[\"policy_content\"] = content\n",
    "                paragraphs = content.split(\"\\n\\n\")  # Splitting by double newlines\n",
    "                st.session_state[\"policy_embeddings\"] = get_embeddings(paragraphs)\n",
    "                topic_info, topics = define_topics(paragraphs)\n",
    "                st.session_state[\"policy_topics\"] = topics\n",
    "                st.session_state[\"topic_info\"] = topic_info\n",
    "\n",
    "    user_query = st.text_input(\"Your Question:\", placeholder=\"Type your question here...\")\n",
    "    if st.button(\"Submit\"):\n",
    "        if user_query:\n",
    "            query_embedding = get_embeddings([user_query])\n",
    "            if query_embedding and st.session_state[\"policy_content\"]:\n",
    "                most_relevant_section, similarity_score, relevant_topic = search_relevant_section(\n",
    "                    query_embedding[0],  # Use the first (and only) embedding\n",
    "                    st.session_state[\"policy_embeddings\"],\n",
    "                    st.session_state[\"policy_content\"].split(\"\\n\\n\"),\n",
    "                    st.session_state[\"policy_topics\"]\n",
    "                )\n",
    "                if most_relevant_section:\n",
    "                    st.subheader(\"Response:\")\n",
    "                    st.write(f\"**Topic**: {relevant_topic}\")\n",
    "                    st.write(most_relevant_section)\n",
    "                    st.write(f\"**Relevance Score**: {similarity_score:.2f}\")\n",
    "                else:\n",
    "                    st.write(\"No relevant section found.\")\n",
    "            else:\n",
    "                st.error(\"An error occurred while processing your query.\")\n",
    "        else:\n",
    "            st.error(\"Please type a question!\")"
   ]
  },
  {
   "cell_type": "code",
   "execution_count": null,
   "metadata": {},
   "outputs": [
    {
     "name": "stderr",
     "output_type": "stream",
     "text": [
      "2024-11-25 14:59:32.721 \n",
      "  \u001b[33m\u001b[1mWarning:\u001b[0m to view this Streamlit app on a browser, run it with the following\n",
      "  command:\n",
      "\n",
      "    streamlit run c:\\Users\\gordo\\anaconda3\\Lib\\site-packages\\ipykernel_launcher.py [ARGUMENTS]\n",
      "2024-11-25 14:59:32.721 Session state does not function when running a script without `streamlit run`\n"
     ]
    },
    {
     "ename": "KeyError",
     "evalue": "'st.session_state has no key \"policy_content\". Did you forget to initialize it? More info: https://docs.streamlit.io/library/advanced-features/session-state#initialization'",
     "output_type": "error",
     "traceback": [
      "\u001b[1;31m---------------------------------------------------------------------------\u001b[0m",
      "\u001b[1;31mKeyError\u001b[0m                                  Traceback (most recent call last)",
      "File \u001b[1;32mc:\\Users\\gordo\\anaconda3\\Lib\\site-packages\\streamlit\\runtime\\state\\session_state.py:398\u001b[0m, in \u001b[0;36mSessionState.__getitem__\u001b[1;34m(self, key)\u001b[0m\n\u001b[0;32m    397\u001b[0m \u001b[38;5;28;01mtry\u001b[39;00m:\n\u001b[1;32m--> 398\u001b[0m     \u001b[38;5;28;01mreturn\u001b[39;00m \u001b[38;5;28mself\u001b[39m\u001b[38;5;241m.\u001b[39m_getitem(widget_id, key)\n\u001b[0;32m    399\u001b[0m \u001b[38;5;28;01mexcept\u001b[39;00m \u001b[38;5;167;01mKeyError\u001b[39;00m:\n",
      "File \u001b[1;32mc:\\Users\\gordo\\anaconda3\\Lib\\site-packages\\streamlit\\runtime\\state\\session_state.py:443\u001b[0m, in \u001b[0;36mSessionState._getitem\u001b[1;34m(self, widget_id, user_key)\u001b[0m\n\u001b[0;32m    442\u001b[0m \u001b[38;5;66;03m# We'll never get here\u001b[39;00m\n\u001b[1;32m--> 443\u001b[0m \u001b[38;5;28;01mraise\u001b[39;00m \u001b[38;5;167;01mKeyError\u001b[39;00m\n",
      "\u001b[1;31mKeyError\u001b[0m: ",
      "\nDuring handling of the above exception, another exception occurred:\n",
      "\u001b[1;31mKeyError\u001b[0m                                  Traceback (most recent call last)",
      "Cell \u001b[1;32mIn[21], line 2\u001b[0m\n\u001b[0;32m      1\u001b[0m \u001b[38;5;28;01mif\u001b[39;00m \u001b[38;5;18m__name__\u001b[39m \u001b[38;5;241m==\u001b[39m \u001b[38;5;124m\"\u001b[39m\u001b[38;5;124m__main__\u001b[39m\u001b[38;5;124m\"\u001b[39m:\n\u001b[1;32m----> 2\u001b[0m     main()\n",
      "Cell \u001b[1;32mIn[20], line 13\u001b[0m, in \u001b[0;36mmain\u001b[1;34m()\u001b[0m\n\u001b[0;32m     10\u001b[0m \u001b[38;5;28;01mif\u001b[39;00m \u001b[38;5;124m\"\u001b[39m\u001b[38;5;124mpolicy_topics\u001b[39m\u001b[38;5;124m\"\u001b[39m \u001b[38;5;129;01mnot\u001b[39;00m \u001b[38;5;129;01min\u001b[39;00m st\u001b[38;5;241m.\u001b[39msession_state:\n\u001b[0;32m     11\u001b[0m     st\u001b[38;5;241m.\u001b[39msession_state[\u001b[38;5;124m\"\u001b[39m\u001b[38;5;124mpolicy_topics\u001b[39m\u001b[38;5;124m\"\u001b[39m] \u001b[38;5;241m=\u001b[39m \u001b[38;5;28;01mNone\u001b[39;00m\n\u001b[1;32m---> 13\u001b[0m \u001b[38;5;28;01mif\u001b[39;00m st\u001b[38;5;241m.\u001b[39msession_state[\u001b[38;5;124m\"\u001b[39m\u001b[38;5;124mpolicy_content\u001b[39m\u001b[38;5;124m\"\u001b[39m] \u001b[38;5;129;01mis\u001b[39;00m \u001b[38;5;28;01mNone\u001b[39;00m:\n\u001b[0;32m     14\u001b[0m     pdf_path \u001b[38;5;241m=\u001b[39m fetch_policy_content()\n\u001b[0;32m     15\u001b[0m     \u001b[38;5;28;01mif\u001b[39;00m pdf_path:\n",
      "File \u001b[1;32mc:\\Users\\gordo\\anaconda3\\Lib\\site-packages\\streamlit\\runtime\\state\\session_state_proxy.py:90\u001b[0m, in \u001b[0;36mSessionStateProxy.__getitem__\u001b[1;34m(self, key)\u001b[0m\n\u001b[0;32m     88\u001b[0m key \u001b[38;5;241m=\u001b[39m \u001b[38;5;28mstr\u001b[39m(key)\n\u001b[0;32m     89\u001b[0m require_valid_user_key(key)\n\u001b[1;32m---> 90\u001b[0m \u001b[38;5;28;01mreturn\u001b[39;00m get_session_state()[key]\n",
      "File \u001b[1;32mc:\\Users\\gordo\\anaconda3\\Lib\\site-packages\\streamlit\\runtime\\state\\safe_session_state.py:91\u001b[0m, in \u001b[0;36mSafeSessionState.__getitem__\u001b[1;34m(self, key)\u001b[0m\n\u001b[0;32m     89\u001b[0m \u001b[38;5;28mself\u001b[39m\u001b[38;5;241m.\u001b[39m_yield_callback()\n\u001b[0;32m     90\u001b[0m \u001b[38;5;28;01mwith\u001b[39;00m \u001b[38;5;28mself\u001b[39m\u001b[38;5;241m.\u001b[39m_lock:\n\u001b[1;32m---> 91\u001b[0m     \u001b[38;5;28;01mreturn\u001b[39;00m \u001b[38;5;28mself\u001b[39m\u001b[38;5;241m.\u001b[39m_state[key]\n",
      "File \u001b[1;32mc:\\Users\\gordo\\anaconda3\\Lib\\site-packages\\streamlit\\runtime\\state\\session_state.py:400\u001b[0m, in \u001b[0;36mSessionState.__getitem__\u001b[1;34m(self, key)\u001b[0m\n\u001b[0;32m    398\u001b[0m     \u001b[38;5;28;01mreturn\u001b[39;00m \u001b[38;5;28mself\u001b[39m\u001b[38;5;241m.\u001b[39m_getitem(widget_id, key)\n\u001b[0;32m    399\u001b[0m \u001b[38;5;28;01mexcept\u001b[39;00m \u001b[38;5;167;01mKeyError\u001b[39;00m:\n\u001b[1;32m--> 400\u001b[0m     \u001b[38;5;28;01mraise\u001b[39;00m \u001b[38;5;167;01mKeyError\u001b[39;00m(_missing_key_error_message(key))\n",
      "\u001b[1;31mKeyError\u001b[0m: 'st.session_state has no key \"policy_content\". Did you forget to initialize it? More info: https://docs.streamlit.io/library/advanced-features/session-state#initialization'"
     ]
    }
   ],
   "source": [
    "if __name__ == \"__main__\":\n",
    "    main()"
   ]
  },
  {
   "cell_type": "markdown",
   "metadata": {},
   "source": [
    "In[ ]:"
   ]
  },
  {
   "cell_type": "markdown",
   "metadata": {},
   "source": [
    "In[ ]:"
   ]
  }
 ],
 "metadata": {
  "kernelspec": {
   "display_name": "Python 3",
   "language": "python",
   "name": "python3"
  },
  "language_info": {
   "codemirror_mode": {
    "name": "ipython",
    "version": 3
   },
   "file_extension": ".py",
   "mimetype": "text/x-python",
   "name": "python",
   "nbconvert_exporter": "python",
   "pygments_lexer": "ipython3",
   "version": "3.12.3"
  }
 },
 "nbformat": 4,
 "nbformat_minor": 2
}
